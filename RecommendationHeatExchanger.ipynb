{
 "cells": [
  {
   "cell_type": "code",
   "execution_count": 1,
   "metadata": {},
   "outputs": [
    {
     "name": "stdout",
     "output_type": "stream",
     "text": [
      "     date  Predicted Fouling Resistance  Actual Fouling Resistance  \\\n",
      "0       1                      0.004707                   0.004808   \n",
      "1       2                      0.004708                   0.004854   \n",
      "2       3                      0.005001                   0.005034   \n",
      "3       4                      0.005258                   0.005210   \n",
      "4       5                      0.005230                   0.005248   \n",
      "..    ...                           ...                        ...   \n",
      "169   170                      0.008521                        NaN   \n",
      "170   171                      0.008499                        NaN   \n",
      "171   172                      0.008475                        NaN   \n",
      "172   173                      0.008451                        NaN   \n",
      "173   174                      0.008425                        NaN   \n",
      "\n",
      "     FuturePredictions  \n",
      "0             0.008786  \n",
      "1             0.008785  \n",
      "2             0.008784  \n",
      "3             0.008782  \n",
      "4             0.008779  \n",
      "..                 ...  \n",
      "169                NaN  \n",
      "170                NaN  \n",
      "171                NaN  \n",
      "172                NaN  \n",
      "173                NaN  \n",
      "\n",
      "[174 rows x 4 columns]\n"
     ]
    }
   ],
   "source": [
    "import pandas as pd\n",
    "import pywhatkit\n",
    "import matplotlib.pyplot as plt\n",
    "import seaborn as sns\n",
    "import numpy as np\n",
    "import matplotlib.pyplot as plt\n",
    "\n",
    "\n",
    "df= pd.read_csv('C:/Users/ASUS/Downloads/comparison - MLR_Future (1).csv')\n",
    "print(df)\n",
    "\n",
    "\n",
    "\n"
   ]
  },
  {
   "cell_type": "code",
   "execution_count": 2,
   "metadata": {},
   "outputs": [
    {
     "name": "stdout",
     "output_type": "stream",
     "text": [
      "[0.004707, 0.0047079999999999995, 0.005000999999999999, 0.005258, 0.005229999999999999, 0.005692, 0.006344, 0.0061649999999999995, 0.0058, 0.005166, 0.005414, 0.005503, 0.005956, 0.006241, 0.006372, 0.006562, 0.006220000000000001, 0.006213000000000001, 0.006351, 0.0068379999999999995, 0.007026999999999999, 0.006958, 0.007069, 0.007083, 0.006529999999999999, 0.006447, 0.006499, 0.007049, 0.007242, 0.007455, 0.007273000000000001, 0.007076000000000001, 0.007311, 0.007425, 0.0075060000000000005, 0.007134000000000001, 0.007281999999999999, 0.006670000000000001, 0.006594, 0.006851, 0.0067079999999999996, 0.007254999999999999, 0.007206999999999999, 0.007088, 0.007054, 0.0072180000000000005, 0.007479, 0.007338, 0.0073019999999999995, 0.007974, 0.007818, 0.007667, 0.007201999999999999, 0.0073420000000000004, 0.007437999999999999, 0.007598000000000001, 0.008034999999999999, 0.007669, 0.0076370000000000006, 0.007958, 0.008062999999999999, 0.007195999999999999, 0.007517, 0.007575, 0.007568000000000001, 0.007690000000000001, 0.008433, 0.008401, 0.008314, 0.008183, 0.007917, 0.008019, 0.008023, 0.008034, 0.008145999999999999, 0.008133, 0.007690000000000001, 0.007359, 0.007286, 0.007148000000000001, 0.0071730000000000006, 0.00713, 0.007187000000000001, 0.0075569999999999995, 0.007977, 0.008135, 0.007968000000000001, 0.007970999999999999, 0.008725, 0.008276, 0.007901, 0.007973000000000001, 0.008078, 0.007852, 0.008444, 0.008128, 0.008921, 0.008486, 0.007783, 0.008112999999999999, 0.008433, 0.008417000000000001, 0.008404, 0.007551, 0.007873999999999999, 0.008011, 0.007965, 0.008164, 0.008152, 0.008449, 0.008037, 0.008097, 0.008034, 0.008057, 0.0078060000000000004, 0.008038, 0.008182, 0.009013, 0.008122, 0.008362, 0.008837000000000001, 0.009748, 0.00806, 0.007640999999999999, 0.00784, 0.008072, 0.00806, 0.008483, 0.008442, 0.008595, 0.008729, 0.008615000000000001, 0.008675, 0.008739, 0.00894, 0.008681999999999999, 0.008812, 0.008964, 0.008752, 0.008825, 0.008809, 0.008690999999999999, 0.0084, 0.008387, 0.008786, 0.008785, 0.008784, 0.008782, 0.008779, 0.008775, 0.008771, 0.008765, 0.008759000000000001, 0.008752, 0.008745000000000001, 0.008736, 0.008727, 0.008716, 0.008705, 0.008693000000000001, 0.00868, 0.008666, 0.008651, 0.008636, 0.008619, 0.008602, 0.008583, 0.008563, 0.008543, 0.008520999999999999, 0.008499, 0.008475, 0.008451, 0.008425]\n"
     ]
    }
   ],
   "source": [
    "fv = list()\n",
    "fvs=[]\n",
    "fv=  df['Predicted Fouling Resistance'].dropna()\n",
    "\n",
    "for each in fv:\n",
    "  fvs.append(each)\n",
    "print(fvs)\n"
   ]
  },
  {
   "cell_type": "code",
   "execution_count": 3,
   "metadata": {},
   "outputs": [
    {
     "name": "stdout",
     "output_type": "stream",
     "text": [
      "[1, 2, 3, 4, 5, 6, 7, 8, 9, 10, 11, 12, 13, 14, 15, 16, 17, 18, 19, 20, 21, 22, 23, 24, 25, 26, 27, 28, 29, 30, 31, 32, 33, 34, 35, 36, 37, 38, 39, 40, 41, 42, 43, 44, 45, 46, 47, 48, 49, 50, 51, 52, 53, 54, 55, 56, 57, 58, 59, 60, 61, 62, 63, 64, 65, 66, 67, 68, 69, 70, 71, 72, 73, 74, 75, 76, 77, 78, 79, 80, 81, 82, 83, 84, 85, 86, 87, 88, 89, 90, 91, 92, 93, 94, 95, 96, 97, 98, 99, 100, 101, 102, 103, 104, 105, 106, 107, 108, 109, 110, 111, 112, 113, 114, 115, 116, 117, 118, 119, 120, 121, 122, 123, 124, 125, 126, 127, 128, 129, 130, 131, 132, 133, 134, 135, 136, 137, 138, 139, 140, 141, 142, 143, 144, 145, 146, 147, 148, 149, 150, 151, 152, 153, 154, 155, 156, 157, 158, 159, 160, 161, 162, 163, 164, 165, 166, 167, 168, 169, 170, 171, 172, 173, 174]\n",
      "0.0012799999999999999 Inter quartie range\n"
     ]
    }
   ],
   "source": [
    "x=[]\n",
    "for i in range(1,len(fvs)+1):\n",
    "  x.append(i)\n",
    "print(x)\n",
    "\n",
    "# IQR\n",
    "\n",
    "Q1 = np.percentile(fvs, 25, interpolation='midpoint')\n",
    "Q3 = np.percentile(fvs, 75, interpolation='midpoint')\n",
    "IQR = Q3 - Q1\n",
    "print(IQR,\"Inter quartie range\")\n",
    "\n"
   ]
  },
  {
   "cell_type": "code",
   "execution_count": 11,
   "metadata": {},
   "outputs": [
    {
     "name": "stdout",
     "output_type": "stream",
     "text": [
      "0.007762195402298851\n"
     ]
    },
    {
     "name": "stderr",
     "output_type": "stream",
     "text": [
      "C:\\Users\\ASUS\\anaconda3\\lib\\site-packages\\seaborn\\_decorators.py:36: FutureWarning: Pass the following variable as a keyword arg: x. From version 0.12, the only valid positional argument will be `data`, and passing other arguments without an explicit keyword will result in an error or misinterpretation.\n",
      "  warnings.warn(\n"
     ]
    },
    {
     "data": {
      "text/plain": [
       "<AxesSubplot:>"
      ]
     },
     "execution_count": 11,
     "metadata": {},
     "output_type": "execute_result"
    },
    {
     "data": {
      "image/png": "[encoded data removed]",
      "text/plain": [
       "<Figure size 432x288 with 1 Axes>"
      ]
     },
     "metadata": {
      "needs_background": "light"
     },
     "output_type": "display_data"
    }
   ],
   "source": [
    "threshold =  sum(fvs)/len(x)\n",
    "print(threshold)\n",
    "\n",
    "plt.plot(fvs,x,color='blue')\n",
    "\n",
    "sns.boxplot(fvs)\n",
    "\n",
    "\n"
   ]
  },
  {
   "cell_type": "code",
   "execution_count": 5,
   "metadata": {},
   "outputs": [
    {
     "data": {
      "image/png": "[encoded data removed]",
      "text/plain": [
       "<Figure size 432x288 with 1 Axes>"
      ]
     },
     "metadata": {
      "needs_background": "light"
     },
     "output_type": "display_data"
    }
   ],
   "source": [
    "\n",
    "plt.plot(x,fvs,color='blue')\n",
    "plt.show()\n"
   ]
  },
  {
   "cell_type": "code",
   "execution_count": 6,
   "metadata": {},
   "outputs": [
    {
     "name": "stdout",
     "output_type": "stream",
     "text": [
      "OK\n"
     ]
    }
   ],
   "source": [
    "# Code to allocate points as safe , alert or high risk depending upon threshold and Q3 value in statistics\n",
    "highriskpoints = []\n",
    "highx = []\n",
    "safepoints = []\n",
    "safex=[]\n",
    "alertpoints = []\n",
    "alertx =[]\n",
    "for i in range(len(fvs)):\n",
    "  if fvs[i] > threshold and fvs[i] > Q3:\n",
    "    highriskpoints.append(fvs[i])\n",
    "    highx.append(i+1)\n",
    "  elif fvs[i] > threshold and fvs[i] < Q3 :\n",
    "    alertpoints.append(fvs[i])\n",
    "    alertx.append(i)\n",
    "  elif fvs[i] < threshold and fvs[i] > Q3:\n",
    "    alertpoints.append(fvs[i])\n",
    "    alertx.append(i)\n",
    "  elif fvs[i] < threshold and fvs[i] < Q3:\n",
    "    safepoints.append(fvs[i])\n",
    "    safex.append(i)\n",
    "print(\"OK\")\n",
    "\n",
    "\n",
    "\n"
   ]
  },
  {
   "cell_type": "code",
   "execution_count": 11,
   "metadata": {},
   "outputs": [
    {
     "name": "stdout",
     "output_type": "stream",
     "text": [
      "yes\n",
      "[]\n"
     ]
    }
   ],
   "source": [
    "print(\"yes\")\n",
    "\n",
    "s1 = set(highriskpoints)\n",
    "s2 = set(alertpoints)\n",
    "s3 = set(safepoints)\n",
    "     \n",
    "    # Calculates intersection of\n",
    "    # sets on s1 and s2\n",
    "set1 = s1.intersection(s2)        \n",
    "     \n",
    "    # Calculates intersection of sets\n",
    "    # on set1 and s3\n",
    "result_set = set1.intersection(s3)\n",
    "     \n",
    "    # Converts resulting set to list\n",
    "final_list = list(result_set)\n",
    "print(final_list)\n",
    "\n",
    "\n",
    "\n"
   ]
  },
  {
   "cell_type": "code",
   "execution_count": 8,
   "metadata": {},
   "outputs": [
    {
     "name": "stdout",
     "output_type": "stream",
     "text": [
      "Enter the day for which you want suggestions and information155\n",
      "In 62 Seconds WhatsApp will open and after 15 Seconds Message will be Delivered!\n"
     ]
    }
   ],
   "source": [
    "getrecommendations = int(input(\"Enter the day for which you want suggestions and information\"))\n",
    "if getrecommendations in highx:\n",
    "    pywhatkit.sendwhatmsg(\"+917709080178\",\"HIGH SYSTEM EMERGENCY ALERT NOTIFICATION ***IMPORTANT URGENT****  Heat Exchanger has to be stopped and new cycle needs to be started!\",21,21)\n",
    "elif getrecommendations in safex:\n",
    "  pywhatkit.sendwhatmsg(\"+917709080178\",\"  SYSTEM NOTIFICATION    Heat Exchanger is working well with no threats!!\",21,21)\n",
    "elif getrecommendations in alertx:\n",
    "  pywhatkit.sendwhatmsg(\"+919545456891\",\"  SYSTEM ALERT NOTIFICATION  Heat Exchangers need to be cleaned and system check must be done\",21,21)\n",
    "\n",
    "  \n"
   ]
  },
  {
   "cell_type": "code",
   "execution_count": 7,
   "metadata": {},
   "outputs": [
    {
     "data": {
      "image/png": "[encoded data removed]",
      "text/plain": [
       "<Figure size 432x288 with 1 Axes>"
      ]
     },
     "metadata": {
      "needs_background": "light"
     },
     "output_type": "display_data"
    },
    {
     "name": "stdout",
     "output_type": "stream",
     "text": [
      "done\n"
     ]
    }
   ],
   "source": [
    "# plot lines\n",
    "plt.scatter(highx,highriskpoints,label = \"high risk points\")\n",
    "plt.scatter(alertx,alertpoints,label=\"alert points\")\n",
    "plt.scatter(safex,safepoints,label = \" safe points\")\n",
    "plt.legend()\n",
    "plt.ioff()\n",
    "plt.show()\n",
    "plt.close()\n",
    "print(\"done\")\n",
    "\n",
    "\n",
    "\n",
    "\n",
    "\n"
   ]
  },
  {
   "cell_type": "code",
   "execution_count": null,
   "metadata": {},
   "outputs": [],
   "source": [
    "#pywhatkit.sendwhatmsg(\"+919545456891\", \"Geeks For Geeks!\", 20, 6)"
   ]
  }
 ],
 "metadata": {
  "kernelspec": {
   "display_name": "Python 3",
   "language": "python",
   "name": "python3"
  },
  "language_info": {
   "codemirror_mode": {
    "name": "ipython",
    "version": 3
   },
   "file_extension": ".py",
   "mimetype": "text/x-python",
   "name": "python",
   "nbconvert_exporter": "python",
   "pygments_lexer": "ipython3",
   "version": "3.8.5"
  }
 },
 "nbformat": 4,
 "nbformat_minor": 4
}
